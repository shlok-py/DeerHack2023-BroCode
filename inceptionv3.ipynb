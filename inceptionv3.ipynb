{
  "nbformat": 4,
  "nbformat_minor": 0,
  "metadata": {
    "colab": {
      "provenance": [],
      "gpuType": "T4",
      "mount_file_id": "1WaHmCeGCcHHvPF9U0QA_9d3RY-ZOeoIn",
      "authorship_tag": "ABX9TyN9+Yrx21dMfR5gLAEL9yte"
    },
    "kernelspec": {
      "name": "python3",
      "display_name": "Python 3"
    },
    "language_info": {
      "name": "python"
    },
    "accelerator": "GPU",
    "gpuClass": "standard"
  },
  "cells": [
    {
      "cell_type": "code",
      "execution_count": null,
      "metadata": {
        "id": "8wpaN0NN0vRE"
      },
      "outputs": [],
      "source": [
        "import numpy as np\n",
        "import pandas as pd\n",
        "# import matplotlib.pyplot as plt\n",
        "# %matplotlib inline\n",
        "# from matplotlib.pyplot import rcParams\n",
        "rcParams['figure.figsize'] = 10,6\n",
        "import tensorflow as tf\n",
        "from tensorflow.keras.preprocessing.image import ImageDataGenerator\n",
        "import numpy as np\n",
        "from tensorflow.keras import layers\n",
        "from tensorflow.keras import Model\n",
        "from tensorflow.keras.applications.inception_v3 import InceptionV3\n",
        "from keras.optimizers import Adam\n",
        "import os"
      ]
    },
    {
      "cell_type": "code",
      "source": [
        "data_path = \"/content/drive/MyDrive/Splitted\""
      ],
      "metadata": {
        "id": "BlrQPQLI1TWk"
      },
      "execution_count": null,
      "outputs": []
    },
    {
      "cell_type": "code",
      "source": [
        "train_dir = \"/content/drive/MyDrive/Splitted/train\"\n",
        "test_dir = \"/content/drive/MyDrive/Splitted/test\""
      ],
      "metadata": {
        "id": "5r1UCg932H2L"
      },
      "execution_count": null,
      "outputs": []
    },
    {
      "cell_type": "code",
      "source": [
        "for i in os.listdir(train_dir):\n",
        "  print(i, \"--->\", len(os.listdir(os.path.join(train_dir, i))))"
      ],
      "metadata": {
        "colab": {
          "base_uri": "https://localhost:8080/"
        },
        "id": "PP4DHCpq2bgI",
        "outputId": "3e1af06a-4e84-437b-da51-a1e43fa2e07f"
      },
      "execution_count": null,
      "outputs": [
        {
          "output_type": "stream",
          "name": "stdout",
          "text": [
            "Cheetah ---> 80\n",
            "Fire ---> 80\n",
            "Hippopotamus ---> 76\n",
            "Human ---> 80\n",
            "Monkey ---> 80\n",
            "Spinny babbler ---> 80\n",
            "Spotted Dove ---> 80\n",
            "Wolf ---> 80\n",
            "bear ---> 80\n",
            "deer ---> 80\n",
            "elephant ---> 80\n",
            "rhinoceros ---> 80\n",
            "tiger ---> 80\n",
            "forest ---> 78\n"
          ]
        }
      ]
    },
    {
      "cell_type": "code",
      "source": [
        "for i in os.listdir(test_dir):\n",
        "  print(i, \"--->\", len(os.listdir(os.path.join(test_dir, i))))\n",
        "  "
      ],
      "metadata": {
        "colab": {
          "base_uri": "https://localhost:8080/"
        },
        "id": "z-_VUfug2lqp",
        "outputId": "5dc25f36-f250-4213-ac7e-6b0df67fea94"
      },
      "execution_count": null,
      "outputs": [
        {
          "output_type": "stream",
          "name": "stdout",
          "text": [
            "Cheetah ---> 22\n",
            "Fire ---> 14\n",
            "Hippopotamus ---> 19\n",
            "Human ---> 20\n",
            "Monkey ---> 20\n",
            "Spinny babbler ---> 24\n",
            "Spotted Dove ---> 24\n",
            "Wolf ---> 25\n",
            "bear ---> 20\n",
            "deer ---> 22\n",
            "elephant ---> 20\n",
            "rhinoceros ---> 23\n",
            "tiger ---> 29\n",
            "forest ---> 20\n"
          ]
        }
      ]
    },
    {
      "cell_type": "code",
      "source": [
        "train_datagen = ImageDataGenerator(\n",
        "    rescale = 1./255,\n",
        ")\n",
        "train_generator = train_datagen.flow_from_directory(\n",
        "    directory = \"/content/drive/MyDrive/Splitted/train\",\n",
        "    target_size = (224, 224),\n",
        "    batch_size = 32,\n",
        "    class_mode = 'categorical'\n",
        ")"
      ],
      "metadata": {
        "colab": {
          "base_uri": "https://localhost:8080/"
        },
        "id": "8DykCpHW2pEo",
        "outputId": "24f5b9b3-7354-494d-8a25-8d67b5c22295"
      },
      "execution_count": null,
      "outputs": [
        {
          "output_type": "stream",
          "name": "stdout",
          "text": [
            "Found 1112 images belonging to 14 classes.\n"
          ]
        }
      ]
    },
    {
      "cell_type": "code",
      "source": [
        "test_datagen = ImageDataGenerator(rescale=1./255)\n",
        "validation_generator = test_datagen.flow_from_directory(\n",
        "    directory = \"/content/drive/MyDrive/Splitted/test\",\n",
        "    target_size = (224,224),\n",
        "    batch_size = 32,\n",
        "    class_mode = 'categorical'\n",
        ")"
      ],
      "metadata": {
        "colab": {
          "base_uri": "https://localhost:8080/"
        },
        "id": "Xaa6gLHj2r2g",
        "outputId": "45d0af41-4e6a-48ce-dca6-8e6c27c5543d"
      },
      "execution_count": null,
      "outputs": [
        {
          "output_type": "stream",
          "name": "stdout",
          "text": [
            "Found 302 images belonging to 14 classes.\n"
          ]
        }
      ]
    },
    {
      "cell_type": "code",
      "source": [
        "pretrained_model = InceptionV3(weights='imagenet', include_top=False, input_shape=(224, 224, 3))\n",
        "for layer in pretrained_model.layers:\n",
        "  layer.trainable = False\n",
        "\n",
        "inputs = layers.Input(shape = (224,224,3),name = \"input_layer\")\n",
        "x = pretrained_model(inputs)\n",
        "x = layers.GlobalAveragePooling2D()(x)\n",
        "x = layers.Dense(32, activation = 'relu')(x)\n",
        "x = layers.Dense(14, activation = 'softmax')(x)\n",
        "model = Model(inputs, x)\n",
        "model.summary()"
      ],
      "metadata": {
        "colab": {
          "base_uri": "https://localhost:8080/"
        },
        "id": "vqKP5zer2tQQ",
        "outputId": "178385ac-4aa7-4414-9f93-2baf95ab7b09"
      },
      "execution_count": null,
      "outputs": [
        {
          "output_type": "stream",
          "name": "stdout",
          "text": [
            "Downloading data from https://storage.googleapis.com/tensorflow/keras-applications/inception_v3/inception_v3_weights_tf_dim_ordering_tf_kernels_notop.h5\n",
            "87910968/87910968 [==============================] - 1s 0us/step\n",
            "Model: \"model\"\n",
            "_________________________________________________________________\n",
            " Layer (type)                Output Shape              Param #   \n",
            "=================================================================\n",
            " input_layer (InputLayer)    [(None, 224, 224, 3)]     0         \n",
            "                                                                 \n",
            " inception_v3 (Functional)   (None, 5, 5, 2048)        21802784  \n",
            "                                                                 \n",
            " global_average_pooling2d (G  (None, 2048)             0         \n",
            " lobalAveragePooling2D)                                          \n",
            "                                                                 \n",
            " dense (Dense)               (None, 32)                65568     \n",
            "                                                                 \n",
            " dense_1 (Dense)             (None, 14)                462       \n",
            "                                                                 \n",
            "=================================================================\n",
            "Total params: 21,868,814\n",
            "Trainable params: 66,030\n",
            "Non-trainable params: 21,802,784\n",
            "_________________________________________________________________\n"
          ]
        }
      ]
    },
    {
      "cell_type": "code",
      "source": [
        "\n",
        "lr = 0.0001\n",
        "optimizer = Adam(lr=lr)\n",
        "model.compile(optimizer=optimizer,\n",
        "              loss = 'categorical_crossentropy',\n",
        "              metrics = ['accuracy'])\n",
        "model.summary()\n"
      ],
      "metadata": {
        "colab": {
          "base_uri": "https://localhost:8080/"
        },
        "id": "TK2IJRye3DnO",
        "outputId": "b661f9de-53c4-45d0-ba54-96cc42dc15bc"
      },
      "execution_count": null,
      "outputs": [
        {
          "output_type": "stream",
          "name": "stdout",
          "text": [
            "Model: \"model\"\n",
            "_________________________________________________________________\n",
            " Layer (type)                Output Shape              Param #   \n",
            "=================================================================\n",
            " input_layer (InputLayer)    [(None, 224, 224, 3)]     0         \n",
            "                                                                 \n",
            " inception_v3 (Functional)   (None, 5, 5, 2048)        21802784  \n",
            "                                                                 \n",
            " global_average_pooling2d (G  (None, 2048)             0         \n",
            " lobalAveragePooling2D)                                          \n",
            "                                                                 \n",
            " dense (Dense)               (None, 32)                65568     \n",
            "                                                                 \n",
            " dense_1 (Dense)             (None, 14)                462       \n",
            "                                                                 \n",
            "=================================================================\n",
            "Total params: 21,868,814\n",
            "Trainable params: 66,030\n",
            "Non-trainable params: 21,802,784\n",
            "_________________________________________________________________\n"
          ]
        },
        {
          "output_type": "stream",
          "name": "stderr",
          "text": [
            "/usr/local/lib/python3.10/dist-packages/keras/optimizers/legacy/adam.py:117: UserWarning: The `lr` argument is deprecated, use `learning_rate` instead.\n",
            "  super().__init__(name, **kwargs)\n"
          ]
        }
      ]
    },
    {
      "cell_type": "code",
      "source": [
        "from PIL import Image, ImageFile\n",
        "ImageFile.LOAD_TRUNCATED_IMAGES = True\n",
        "\n",
        "history = model.fit(\n",
        "            train_generator,\n",
        "            steps_per_epoch = 35,\n",
        "            epochs=3,\n",
        "            validation_data=validation_generator,\n",
        "            validation_steps=200,\n",
        "            verbose = 1\n",
        "            )"
      ],
      "metadata": {
        "colab": {
          "base_uri": "https://localhost:8080/"
        },
        "id": "OBUBI7mf3K9W",
        "outputId": "4810415e-0619-4298-ce53-39b22e9b5a2e"
      },
      "execution_count": null,
      "outputs": [
        {
          "output_type": "stream",
          "name": "stdout",
          "text": [
            "Epoch 1/3\n",
            "35/35 [==============================] - ETA: 0s - loss: 2.4520 - accuracy: 0.2266"
          ]
        },
        {
          "output_type": "stream",
          "name": "stderr",
          "text": [
            "WARNING:tensorflow:Your input ran out of data; interrupting training. Make sure that your dataset or generator can generate at least `steps_per_epoch * epochs` batches (in this case, 200 batches). You may need to use the repeat() function when building your dataset.\n"
          ]
        },
        {
          "output_type": "stream",
          "name": "stdout",
          "text": [
            "\b\b\b\b\b\b\b\b\b\b\b\b\b\b\b\b\b\b\b\b\b\b\b\b\b\b\b\b\b\b\b\b\b\b\b\b\b\b\b\b\b\b\b\b\b\b\b\b\b\b\b\b\b\b\b\b\b\b\b\b\b\b\b\b\b\b\b\b\b\b\b\b\b\b\b\b\b\b\b\b\b\b\r35/35 [==============================] - 382s 11s/step - loss: 2.4520 - accuracy: 0.2266 - val_loss: 2.1263 - val_accuracy: 0.3212\n",
            "Epoch 2/3\n",
            "35/35 [==============================] - 21s 609ms/step - loss: 1.7512 - accuracy: 0.5162\n",
            "Epoch 3/3\n",
            "35/35 [==============================] - 23s 651ms/step - loss: 1.1962 - accuracy: 0.7401\n"
          ]
        }
      ]
    },
    {
      "cell_type": "code",
      "source": [
        "model.save(\"inception.h5\")"
      ],
      "metadata": {
        "id": "CSlZvIYA3mLK"
      },
      "execution_count": null,
      "outputs": []
    },
    {
      "cell_type": "code",
      "source": [
        "loss, accuracy  = model.evaluate(validation_generator)\n",
        "print(\"Test accuracy: \", accuracy)"
      ],
      "metadata": {
        "colab": {
          "base_uri": "https://localhost:8080/"
        },
        "id": "Xaoco6Dl5Vzt",
        "outputId": "ed6c946c-b029-4494-c753-77c6fa39cb9f"
      },
      "execution_count": null,
      "outputs": [
        {
          "output_type": "stream",
          "name": "stdout",
          "text": [
            "10/10 [==============================] - 10s 889ms/step - loss: 1.0935 - accuracy: 0.7781\n",
            "Test accuracy:  0.7781456708908081\n"
          ]
        }
      ]
    },
    {
      "cell_type": "code",
      "source": [],
      "metadata": {
        "id": "jBl3Vdzl5Ybe"
      },
      "execution_count": null,
      "outputs": []
    }
  ]
}